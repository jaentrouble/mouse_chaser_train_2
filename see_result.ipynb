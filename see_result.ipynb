{
 "metadata": {
  "language_info": {
   "codemirror_mode": {
    "name": "ipython",
    "version": 3
   },
   "file_extension": ".py",
   "mimetype": "text/x-python",
   "name": "python",
   "nbconvert_exporter": "python",
   "pygments_lexer": "ipython3",
   "version": "3.8.6-final"
  },
  "orig_nbformat": 2,
  "kernelspec": {
   "name": "python3",
   "display_name": "Python 3.8.6 64-bit ('env')",
   "metadata": {
    "interpreter": {
     "hash": "6fdbb53d3a686b6eaf1199293529b732722b9e6d24861d32ed2ea53ada51c7d8"
    }
   }
  }
 },
 "nbformat": 4,
 "nbformat_minor": 2,
 "cells": [
  {
   "cell_type": "code",
   "execution_count": null,
   "metadata": {},
   "outputs": [],
   "source": [
    "import numpy as np\n",
    "import tensorflow as tf\n",
    "from tensorflow.keras import mixed_precision\n",
    "from extra_models.object_detector import ObjectDetector\n",
    "import matplotlib.pyplot as plt\n",
    "from model_trainer import create_train_dataset"
   ]
  },
  {
   "cell_type": "code",
   "execution_count": null,
   "metadata": {},
   "outputs": [],
   "source": [
    "%matplotlib inline"
   ]
  },
  {
   "cell_type": "code",
   "execution_count": null,
   "metadata": {},
   "outputs": [],
   "source": [
    "gpus = tf.config.experimental.list_physical_devices('GPU')\n",
    "if gpus:\n",
    "    try:\n",
    "        for gpu in gpus:\n",
    "            tf.config.experimental.set_memory_growth(gpu, True)\n",
    "    except RuntimeError as e:\n",
    "        print(e)\n",
    "\n",
    "policy = mixed_precision.Policy('mixed_float16')\n",
    "mixed_precision.set_global_policy(policy)"
   ]
  },
  {
   "cell_type": "code",
   "execution_count": null,
   "metadata": {},
   "outputs": [],
   "source": [
    "data_dir = 'data/val'\n",
    "img_size = (640,480)\n",
    "class_names = ['food']\n",
    "bbox_sizes = [(25,25)]"
   ]
  },
  {
   "cell_type": "code",
   "execution_count": null,
   "metadata": {},
   "outputs": [],
   "source": [
    "ds = create_train_dataset(data_dir, img_size, class_names, bbox_sizes, val_data=True)"
   ]
  },
  {
   "cell_type": "code",
   "execution_count": null,
   "metadata": {},
   "outputs": [],
   "source": [
    "backbone_f = 'hr_5_3_8'\n",
    "intermediate_filters = 256\n",
    "kernel_size = 16\n",
    "stride = 8\n",
    "num_classes = len(class_names) + 1\n",
    "rfcn_window=3\n",
    "anchor_ratios = [0.5,1.0,2.0]\n",
    "anchor_scales = [0.1,0.3,0.6]\n"
   ]
  },
  {
   "cell_type": "code",
   "execution_count": null,
   "metadata": {},
   "outputs": [],
   "source": [
    "test_model = ObjectDetector(\n",
    "    backbone_f,\n",
    "    intermediate_filters,\n",
    "    kernel_size,\n",
    "    stride,\n",
    "    img_size,\n",
    "    num_classes,\n",
    "    rfcn_window,\n",
    "    anchor_ratios,\n",
    "    anchor_scales,\n",
    ")"
   ]
  },
  {
   "cell_type": "code",
   "execution_count": null,
   "metadata": {},
   "outputs": [],
   "source": [
    "load_dir = 'savedmodels/hr538_rfcn_mf8/15'\n",
    "test_model.load_weights(load_dir,)"
   ]
  },
  {
   "cell_type": "code",
   "execution_count": null,
   "metadata": {
    "tags": [
     "outputPrepend"
    ]
   },
   "outputs": [],
   "source": [
    "colors=np.array([\n",
    "    [1,0,0],\n",
    "    [0,1,0],\n",
    "    [1,1,0],\n",
    "    [0,1,1],\n",
    "])\n",
    "\n",
    "\n",
    "samples = ds.take(4).as_numpy_iterator()\n",
    "fig = plt.figure(figsize=(15,15))\n",
    "for i in range(4):\n",
    "    sample = next(samples)\n",
    "    image, gt_box, _ = sample\n",
    "    #-------------DEBUG\n",
    "    rois, rpn_probs, boxes, probs, labels= test_model(image, training=False)\n",
    "    rpn_image = image[0].copy()\n",
    "    #---------------------------------------\n",
    "    # boxes, probs, labels = test_model(image, training=False)\n",
    "    #----------------------------------------\n",
    "    test_image = image[0].copy()\n",
    "    gt_image = image[0].copy()\n",
    "    gt_box = gt_box[0]\n",
    "    h,w = np.subtract(gt_image.shape[:2],1)\n",
    "    #----------------------DEBUG\n",
    "    for box, p in zip(rois,rpn_probs):\n",
    "        color = np.clip([4*(1-p),4*(p-0.5),0],0,1)\n",
    "        x1, y1, x2, y2 = np.multiply(box,[w,h,w,h,]).astype(np.int64)\n",
    "        rpn_image[y1,x1:x2] = color\n",
    "        rpn_image[y2,x1:x2] = color\n",
    "        rpn_image[y1:y2,x1] = color\n",
    "        rpn_image[y1:y2,x2] = color\n",
    "    #----------------------------------\n",
    "    for box, p, l in zip(boxes, probs, labels):\n",
    "        color = colors[l] * p\n",
    "    #----------------------------------------\n",
    "        x1, y1, x2, y2 = np.multiply(box,[w,h,w,h,]).astype(np.int64)\n",
    "        test_image[y1,x1:x2] = color\n",
    "        test_image[y2,x1:x2] = color\n",
    "        test_image[y1:y2,x1] = color\n",
    "        test_image[y1:y2,x2] = color\n",
    "    for box in gt_box:\n",
    "        x1, y1, x2, y2 = np.multiply(box,[w,h,w,h,]).astype(np.int64)\n",
    "        gt_image[y1,x1:x2] = [0,0,1]\n",
    "        gt_image[y2,x1:x2] = [0,0,1]\n",
    "        gt_image[y1:y2,x1] = [0,0,1]\n",
    "        gt_image[y1:y2,x2] = [0,0,1]\n",
    "\n",
    "    ax = fig.add_subplot(4,3,3*i+1)\n",
    "    ax.imshow(gt_image)\n",
    "    ax = fig.add_subplot(4,3,3*i+2)\n",
    "    ax.imshow(rpn_image)\n",
    "    ax = fig.add_subplot(4,3,3*i+3)\n",
    "    ax.imshow(test_image)\n",
    "\n",
    "plt.show()\n"
   ]
  },
  {
   "cell_type": "code",
   "execution_count": null,
   "metadata": {},
   "outputs": [],
   "source": []
  }
 ]
}